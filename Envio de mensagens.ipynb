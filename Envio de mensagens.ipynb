{
 "cells": [
  {
   "cell_type": "code",
   "execution_count": null,
   "id": "2f2985a9-3958-4283-87fb-12ce1b6786ee",
   "metadata": {},
   "outputs": [],
   "source": [
    "import pandas as pd\n",
    "import pyautogui\n",
    "import time\n",
    "import pyperclip\n",
    "\n",
    "# Função para abrir o WhatsApp Web\n",
    "def open_whatsapp():\n",
    "    url = \"https://web.whatsapp.com/\"\n",
    "    pyautogui.hotkey('ctrl', 't')  # Abre uma nova aba\n",
    "    time.sleep(1)\n",
    "    pyperclip.copy(url)\n",
    "    pyautogui.hotkey('ctrl', 'v')  # Cola a URL\n",
    "    pyautogui.press('enter')\n",
    "    time.sleep(15)  # Espera carregar o WhatsApp Web\n",
    "\n",
    "# Função para enviar mensagem\n",
    "def send_message(phone, message):\n",
    "    try:\n",
    "        # Formata a URL para abrir o chat com o número especificado\n",
    "        url = f\"https://web.whatsapp.com/send?phone={phone}\"\n",
    "        pyperclip.copy(url)\n",
    "        pyautogui.hotkey('ctrl', 'l')  # Seleciona a barra de endereço\n",
    "        pyautogui.hotkey('ctrl', 'v')  # Cola a URL\n",
    "        pyautogui.press('enter')\n",
    "        time.sleep(15)  # Espera o chat carregar\n",
    "\n",
    "        # Cola a mensagem\n",
    "        pyperclip.copy(message)\n",
    "        pyautogui.hotkey('ctrl', 'v')  # Cola a mensagem\n",
    "        time.sleep(2)\n",
    "\n",
    "        # Envia a mensagem\n",
    "        pyautogui.press('enter')\n",
    "        time.sleep(5)  # Espera para garantir que a mensagem foi enviada\n",
    "    except Exception as e:\n",
    "        print(f\"Erro ao enviar mensagem para {phone}: {e}\")\n",
    "\n",
    "# Função principal\n",
    "def main():\n",
    "    # Carrega os dados do Excel\n",
    "    df = pd.read_excel('Lista de numeros.xlsx') #Não disponibilizarei o documento para proteger os dados\n",
    "\n",
    "    # Abrir o WhatsApp Web\n",
    "    open_whatsapp()\n",
    "\n",
    "    # Itera sobre cada linha do DataFrame e envia mensagens\n",
    "    for index, row in df.iloc[0:20].iterrows():\n",
    "        phone = str(row['TELEFONE'])\n",
    "        first_name = row['NOME'].split()[0]\n",
    "        message = (\n",
    "            f\"Olá {first_name},\\n\\n\"\n",
    "            \"A Dra. ******** está agora atendendo na clínica *CFA*.\\n\\n\"\n",
    "            \"Estamos muito felizes em continuar oferecendo cuidados de qualidade e sabemos que a Dra. Simone também está animada para atendê-la novamente.\\n\\n\"\n",
    "            \"Na clínica CFA, você encontrará um ambiente acolhedor e diversas outras especialidades que você precisa, incluindo:\\n\\n\"\n",
    "            \"* Cardiologia\\n\"\n",
    "            \"* Exames Laboratoriais\\n\"\n",
    "            \"* Ultrassonografia\\n\"\n",
    "            \"* Psicologia\\n\"\n",
    "            \"* E muito mais!\\n\\n\"\n",
    "            \"Será um prazer recebê-la em nossa clínica. Caso precise de mais informações ou queira agendar uma consulta, estamos aqui para ajudar pelo WhatsApp ou no telefone 71 3249-5497.\\n\\n\"\n",
    "            \"Equipe da Clínica CFA\"\n",
    "        )\n",
    "        send_message(phone, message)\n",
    "        time.sleep(5)  # Espera 5 segundos entre cada mensagem para garantir que o processo esteja sincronizado\n",
    "\n",
    "if __name__ == \"__main__\":\n",
    "    main()"
   ]
  }
 ],
 "metadata": {
  "kernelspec": {
   "display_name": "Python 3 (ipykernel)",
   "language": "python",
   "name": "python3"
  },
  "language_info": {
   "codemirror_mode": {
    "name": "ipython",
    "version": 3
   },
   "file_extension": ".py",
   "mimetype": "text/x-python",
   "name": "python",
   "nbconvert_exporter": "python",
   "pygments_lexer": "ipython3",
   "version": "3.12.3"
  },
  "widgets": {
   "application/vnd.jupyter.widget-state+json": {
    "state": {},
    "version_major": 2,
    "version_minor": 0
   }
  }
 },
 "nbformat": 4,
 "nbformat_minor": 5
}
