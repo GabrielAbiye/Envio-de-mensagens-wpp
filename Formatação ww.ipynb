{
 "cells": [
  {
   "cell_type": "code",
   "execution_count": 16,
   "id": "bd5fdb5c-6aa0-43b5-a997-5ba5fee87710",
   "metadata": {},
   "outputs": [],
   "source": [
    "import pandas as pd\n",
    "import re\n",
    "\n",
    "# Função para formatar o número de telefone\n",
    "def format_phone_number(phone):\n",
    "    phone = str(phone)  # Converte o número para string\n",
    "    phone = re.sub(r'\\D', '', phone)  # Remove caracteres não numéricos\n",
    "    if len(phone) == 8:\n",
    "        phone = '71' + '9' + phone\n",
    "    elif len(phone) == 9:\n",
    "        phone = '71' + phone\n",
    "    elif len(phone) == 10:\n",
    "        phone = '7' + phone\n",
    "    elif len(phone) == 11:\n",
    "        if phone[:2] != '71':\n",
    "            phone = '71' + phone\n",
    "    return '+55' + phone\n",
    "\n",
    "# Função para verificar se o número é um celular válido\n",
    "def is_valid_mobile(phone):\n",
    "    if phone.startswith(\"+55719\"):\n",
    "        return True\n",
    "    return False\n",
    "\n",
    "# Carregar todas as abas do arquivo Excel\n",
    "xls = pd.ExcelFile('Lista de pacientes *****.xlsx')\n",
    "dfs = [xls.parse(sheet) for sheet in xls.sheet_names]\n",
    "df = pd.concat(dfs, ignore_index=True)\n",
    "\n",
    "# Selecionar apenas as colunas NOME e TELEFONE\n",
    "df = df[['NOME', 'TELEFONE']]\n",
    "\n",
    "# Limpar e formatar a coluna de telefone\n",
    "df['TELEFONE'] = df['TELEFONE'].apply(format_phone_number)\n",
    "\n",
    "# Filtrar números de celular válidos\n",
    "df = df[df['TELEFONE'].apply(is_valid_mobile)]\n",
    "df['TELEFONE'] = df['TELEFONE'].astype(str)\n"
   ]
  },
  {
   "cell_type": "code",
   "execution_count": 17,
   "id": "9193ca87-5bf9-4895-ba9b-a6989c1f1217",
   "metadata": {},
   "outputs": [],
   "source": [
    "df.to_excel('../Clinica CFA/Lista de numeros.xlsx', index= False)"
   ]
  },
  {
   "cell_type": "code",
   "execution_count": 19,
   "id": "ba60a85f-2b20-4c95-8cc5-cbd2603180d1",
   "metadata": {},
   "outputs": [
    {
     "name": "stdout",
     "output_type": "stream",
     "text": [
      "<class 'pandas.core.frame.DataFrame'>\n",
      "Index: 2541 entries, 1 to 6076\n",
      "Data columns (total 2 columns):\n",
      " #   Column    Non-Null Count  Dtype \n",
      "---  ------    --------------  ----- \n",
      " 0   NOME      2541 non-null   object\n",
      " 1   TELEFONE  2541 non-null   object\n",
      "dtypes: object(2)\n",
      "memory usage: 59.6+ KB\n"
     ]
    }
   ],
   "source": [
    "df.info()"
   ]
  }
 ],
 "metadata": {
  "kernelspec": {
   "display_name": "Python 3 (ipykernel)",
   "language": "python",
   "name": "python3"
  },
  "language_info": {
   "codemirror_mode": {
    "name": "ipython",
    "version": 3
   },
   "file_extension": ".py",
   "mimetype": "text/x-python",
   "name": "python",
   "nbconvert_exporter": "python",
   "pygments_lexer": "ipython3",
   "version": "3.12.3"
  },
  "widgets": {
   "application/vnd.jupyter.widget-state+json": {
    "state": {},
    "version_major": 2,
    "version_minor": 0
   }
  }
 },
 "nbformat": 4,
 "nbformat_minor": 5
}
